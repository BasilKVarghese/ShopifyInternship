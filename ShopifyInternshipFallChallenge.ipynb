{
 "cells": [
  {
   "cell_type": "markdown",
   "id": "15883aea",
   "metadata": {},
   "source": [
    "### Loading the Dataset"
   ]
  },
  {
   "cell_type": "code",
   "execution_count": null,
   "id": "e6b5dd83",
   "metadata": {},
   "outputs": [],
   "source": [
    "#loading the dataset\n",
    "import pandas as pd\n",
    "df = pd.read_csv('2019 Winter Data Science Intern Challenge Data Set - Sheet1.csv')\n",
    "df.head()"
   ]
  },
  {
   "cell_type": "markdown",
   "id": "11b1dec3",
   "metadata": {},
   "source": [
    "### Calculating Metrics"
   ]
  },
  {
   "cell_type": "code",
   "execution_count": 33,
   "id": "41794e10",
   "metadata": {},
   "outputs": [
    {
     "name": "stdout",
     "output_type": "stream",
     "text": [
      "Naively Calculated AOV:  3145.128\n"
     ]
    }
   ],
   "source": [
    "print(\"Naively Calculated AOV: \",df['order_amount'].mean())"
   ]
  },
  {
   "cell_type": "code",
   "execution_count": 36,
   "id": "24a55aee",
   "metadata": {},
   "outputs": [
    {
     "name": "stdout",
     "output_type": "stream",
     "text": [
      "Description of Total Number of Items:\n",
      "\n",
      " count    5000.00000\n",
      "mean        8.78720\n",
      "std       116.32032\n",
      "min         1.00000\n",
      "25%         1.00000\n",
      "50%         2.00000\n",
      "75%         3.00000\n",
      "max      2000.00000\n",
      "Name: total_items, dtype: float64\n"
     ]
    }
   ],
   "source": [
    "print(\"Description of Total Number of Items:\\n\\n\",df['total_items'].describe())"
   ]
  },
  {
   "cell_type": "markdown",
   "id": "6cea13ad",
   "metadata": {},
   "source": [
    "There are transactions where 2000 items are being purchased. This looks like an anomaly, and hence must be looked into."
   ]
  },
  {
   "cell_type": "code",
   "execution_count": 48,
   "id": "c664e7a1",
   "metadata": {},
   "outputs": [
    {
     "name": "stdout",
     "output_type": "stream",
     "text": [
      "Description of Total Number of Items without transactions of 2000 items:\n",
      "\n",
      " count    4983.00000\n",
      "mean        1.99398\n",
      "std         0.98318\n",
      "min         1.00000\n",
      "25%         1.00000\n",
      "50%         2.00000\n",
      "75%         3.00000\n",
      "max         8.00000\n",
      "Name: total_items, dtype: float64\n"
     ]
    }
   ],
   "source": [
    "print(\"Description of Total Number of Items without transactions of 2000 items:\\n\\n\",df[df['total_items']<2000]['total_items'].describe())"
   ]
  },
  {
   "cell_type": "markdown",
   "id": "3d85055e",
   "metadata": {},
   "source": [
    "The maximum number of items across transactions is 8, which seems like a reasonable number. "
   ]
  },
  {
   "cell_type": "markdown",
   "id": "6e3113a8",
   "metadata": {},
   "source": [
    "### Deep diving into the transactions with 2000 items purchased."
   ]
  },
  {
   "cell_type": "code",
   "execution_count": 45,
   "id": "673085c6",
   "metadata": {},
   "outputs": [
    {
     "name": "stdout",
     "output_type": "stream",
     "text": [
      "Number of Transactions with 2000 items: 17\n",
      "Shop id from which 2000 items were purchased: 42\n"
     ]
    }
   ],
   "source": [
    "print(\"Number of Transactions with 2000 items:\",len(df[(df['total_items'] == 2000)]))\n",
    "print(\"Shop id from which 2000 items were purchased:\",df[(df['total_items'] == 2000)]['shop_id'].unique()[0].astype(int))"
   ]
  },
  {
   "cell_type": "markdown",
   "id": "6b9c0932",
   "metadata": {},
   "source": [
    "###  Top 5 Shops with highest revenue"
   ]
  },
  {
   "cell_type": "code",
   "execution_count": 50,
   "id": "1853a49f",
   "metadata": {},
   "outputs": [
    {
     "data": {
      "text/html": [
       "<div>\n",
       "<style scoped>\n",
       "    .dataframe tbody tr th:only-of-type {\n",
       "        vertical-align: middle;\n",
       "    }\n",
       "\n",
       "    .dataframe tbody tr th {\n",
       "        vertical-align: top;\n",
       "    }\n",
       "\n",
       "    .dataframe thead th {\n",
       "        text-align: right;\n",
       "    }\n",
       "</style>\n",
       "<table border=\"1\" class=\"dataframe\">\n",
       "  <thead>\n",
       "    <tr style=\"text-align: right;\">\n",
       "      <th></th>\n",
       "      <th>order_amount</th>\n",
       "    </tr>\n",
       "    <tr>\n",
       "      <th>shop_id</th>\n",
       "      <th></th>\n",
       "    </tr>\n",
       "  </thead>\n",
       "  <tbody>\n",
       "    <tr>\n",
       "      <th>42</th>\n",
       "      <td>11990176</td>\n",
       "    </tr>\n",
       "    <tr>\n",
       "      <th>78</th>\n",
       "      <td>2263800</td>\n",
       "    </tr>\n",
       "    <tr>\n",
       "      <th>89</th>\n",
       "      <td>23128</td>\n",
       "    </tr>\n",
       "    <tr>\n",
       "      <th>81</th>\n",
       "      <td>22656</td>\n",
       "    </tr>\n",
       "    <tr>\n",
       "      <th>6</th>\n",
       "      <td>22627</td>\n",
       "    </tr>\n",
       "  </tbody>\n",
       "</table>\n",
       "</div>"
      ],
      "text/plain": [
       "         order_amount\n",
       "shop_id              \n",
       "42           11990176\n",
       "78            2263800\n",
       "89              23128\n",
       "81              22656\n",
       "6               22627"
      ]
     },
     "execution_count": 50,
     "metadata": {},
     "output_type": "execute_result"
    }
   ],
   "source": [
    "df.groupby('shop_id').agg({'order_amount':'sum'}).sort_values('order_amount',ascending = False).iloc[0:5,]"
   ]
  },
  {
   "cell_type": "markdown",
   "id": "660bd6d0",
   "metadata": {},
   "source": [
    "The high revenue from shop 42 is attributed to the high quantity transactions from the shop. Interestingly, shop 78 also has unusually high revenue. "
   ]
  },
  {
   "cell_type": "markdown",
   "id": "26a5c4ca",
   "metadata": {},
   "source": [
    "### Deep diving into shop 78"
   ]
  },
  {
   "cell_type": "code",
   "execution_count": 54,
   "id": "1f16f6a6",
   "metadata": {},
   "outputs": [
    {
     "name": "stdout",
     "output_type": "stream",
     "text": [
      "Average price per sneaker in shop 78: 25725.0\n"
     ]
    }
   ],
   "source": [
    "#Calculating average price per sneaker\n",
    "df['price_per_sneaker'] = df['order_amount']/df['total_items']\n",
    "\n",
    "print(\"Average price per sneaker in shop 78:\",df[df['shop_id'] == 78]['price_per_sneaker'].mean())"
   ]
  },
  {
   "cell_type": "markdown",
   "id": "f9793431",
   "metadata": {},
   "source": [
    "$25,725 is an unusually high amount for the average price of a sneaker. "
   ]
  },
  {
   "cell_type": "code",
   "execution_count": 57,
   "id": "9c2c6b5a",
   "metadata": {},
   "outputs": [
    {
     "data": {
      "text/html": [
       "<div>\n",
       "<style scoped>\n",
       "    .dataframe tbody tr th:only-of-type {\n",
       "        vertical-align: middle;\n",
       "    }\n",
       "\n",
       "    .dataframe tbody tr th {\n",
       "        vertical-align: top;\n",
       "    }\n",
       "\n",
       "    .dataframe thead th {\n",
       "        text-align: right;\n",
       "    }\n",
       "</style>\n",
       "<table border=\"1\" class=\"dataframe\">\n",
       "  <thead>\n",
       "    <tr style=\"text-align: right;\">\n",
       "      <th></th>\n",
       "      <th>price_per_sneaker</th>\n",
       "    </tr>\n",
       "    <tr>\n",
       "      <th>shop_id</th>\n",
       "      <th></th>\n",
       "    </tr>\n",
       "  </thead>\n",
       "  <tbody>\n",
       "    <tr>\n",
       "      <th>78</th>\n",
       "      <td>25725.0</td>\n",
       "    </tr>\n",
       "    <tr>\n",
       "      <th>42</th>\n",
       "      <td>352.0</td>\n",
       "    </tr>\n",
       "    <tr>\n",
       "      <th>12</th>\n",
       "      <td>201.0</td>\n",
       "    </tr>\n",
       "    <tr>\n",
       "      <th>89</th>\n",
       "      <td>196.0</td>\n",
       "    </tr>\n",
       "    <tr>\n",
       "      <th>99</th>\n",
       "      <td>195.0</td>\n",
       "    </tr>\n",
       "  </tbody>\n",
       "</table>\n",
       "</div>"
      ],
      "text/plain": [
       "         price_per_sneaker\n",
       "shop_id                   \n",
       "78                 25725.0\n",
       "42                   352.0\n",
       "12                   201.0\n",
       "89                   196.0\n",
       "99                   195.0"
      ]
     },
     "execution_count": 57,
     "metadata": {},
     "output_type": "execute_result"
    }
   ],
   "source": [
    "df.groupby('shop_id').agg({'price_per_sneaker':'mean'}).sort_values('price_per_sneaker',ascending = False).iloc[0:5,]"
   ]
  },
  {
   "cell_type": "markdown",
   "id": "6389249c",
   "metadata": {},
   "source": [
    "### Calculating New AOV excluding transactions with 2000 items and shop 78"
   ]
  },
  {
   "cell_type": "code",
   "execution_count": 58,
   "id": "edcebab7",
   "metadata": {},
   "outputs": [
    {
     "data": {
      "text/plain": [
       "302.58051448247926"
      ]
     },
     "execution_count": 58,
     "metadata": {},
     "output_type": "execute_result"
    }
   ],
   "source": [
    "df[(df['total_items'] < 2000) & (df['shop_id'] != 78)]['order_amount'].mean()"
   ]
  },
  {
   "cell_type": "markdown",
   "id": "b2f4d340",
   "metadata": {},
   "source": [
    "### Calculating the most sold item"
   ]
  },
  {
   "cell_type": "code",
   "execution_count": 30,
   "id": "a7bb75ff",
   "metadata": {},
   "outputs": [
    {
     "data": {
      "text/html": [
       "<div>\n",
       "<style scoped>\n",
       "    .dataframe tbody tr th:only-of-type {\n",
       "        vertical-align: middle;\n",
       "    }\n",
       "\n",
       "    .dataframe tbody tr th {\n",
       "        vertical-align: top;\n",
       "    }\n",
       "\n",
       "    .dataframe thead th {\n",
       "        text-align: right;\n",
       "    }\n",
       "</style>\n",
       "<table border=\"1\" class=\"dataframe\">\n",
       "  <thead>\n",
       "    <tr style=\"text-align: right;\">\n",
       "      <th></th>\n",
       "      <th>total_items</th>\n",
       "    </tr>\n",
       "    <tr>\n",
       "      <th>shop_id</th>\n",
       "      <th></th>\n",
       "    </tr>\n",
       "  </thead>\n",
       "  <tbody>\n",
       "    <tr>\n",
       "      <th>42</th>\n",
       "      <td>34063</td>\n",
       "    </tr>\n",
       "    <tr>\n",
       "      <th>13</th>\n",
       "      <td>136</td>\n",
       "    </tr>\n",
       "    <tr>\n",
       "      <th>84</th>\n",
       "      <td>132</td>\n",
       "    </tr>\n",
       "    <tr>\n",
       "      <th>71</th>\n",
       "      <td>130</td>\n",
       "    </tr>\n",
       "    <tr>\n",
       "      <th>53</th>\n",
       "      <td>130</td>\n",
       "    </tr>\n",
       "    <tr>\n",
       "      <th>...</th>\n",
       "      <td>...</td>\n",
       "    </tr>\n",
       "    <tr>\n",
       "      <th>38</th>\n",
       "      <td>72</td>\n",
       "    </tr>\n",
       "    <tr>\n",
       "      <th>16</th>\n",
       "      <td>71</td>\n",
       "    </tr>\n",
       "    <tr>\n",
       "      <th>44</th>\n",
       "      <td>71</td>\n",
       "    </tr>\n",
       "    <tr>\n",
       "      <th>56</th>\n",
       "      <td>69</td>\n",
       "    </tr>\n",
       "    <tr>\n",
       "      <th>85</th>\n",
       "      <td>67</td>\n",
       "    </tr>\n",
       "  </tbody>\n",
       "</table>\n",
       "<p>100 rows × 1 columns</p>\n",
       "</div>"
      ],
      "text/plain": [
       "         total_items\n",
       "shop_id             \n",
       "42             34063\n",
       "13               136\n",
       "84               132\n",
       "71               130\n",
       "53               130\n",
       "...              ...\n",
       "38                72\n",
       "16                71\n",
       "44                71\n",
       "56                69\n",
       "85                67\n",
       "\n",
       "[100 rows x 1 columns]"
      ]
     },
     "execution_count": 30,
     "metadata": {},
     "output_type": "execute_result"
    }
   ],
   "source": [
    "df.groupby('shop_id').agg({'total_items':'sum'}).sort_values('total_items',ascending = False)"
   ]
  },
  {
   "cell_type": "markdown",
   "id": "b5b50213",
   "metadata": {},
   "source": [
    "### Calculating the least sold item"
   ]
  },
  {
   "cell_type": "code",
   "execution_count": 59,
   "id": "64cc00e3",
   "metadata": {},
   "outputs": [
    {
     "data": {
      "text/html": [
       "<div>\n",
       "<style scoped>\n",
       "    .dataframe tbody tr th:only-of-type {\n",
       "        vertical-align: middle;\n",
       "    }\n",
       "\n",
       "    .dataframe tbody tr th {\n",
       "        vertical-align: top;\n",
       "    }\n",
       "\n",
       "    .dataframe thead th {\n",
       "        text-align: right;\n",
       "    }\n",
       "</style>\n",
       "<table border=\"1\" class=\"dataframe\">\n",
       "  <thead>\n",
       "    <tr style=\"text-align: right;\">\n",
       "      <th></th>\n",
       "      <th>total_items</th>\n",
       "    </tr>\n",
       "    <tr>\n",
       "      <th>shop_id</th>\n",
       "      <th></th>\n",
       "    </tr>\n",
       "  </thead>\n",
       "  <tbody>\n",
       "    <tr>\n",
       "      <th>85</th>\n",
       "      <td>67</td>\n",
       "    </tr>\n",
       "    <tr>\n",
       "      <th>56</th>\n",
       "      <td>69</td>\n",
       "    </tr>\n",
       "    <tr>\n",
       "      <th>16</th>\n",
       "      <td>71</td>\n",
       "    </tr>\n",
       "    <tr>\n",
       "      <th>44</th>\n",
       "      <td>71</td>\n",
       "    </tr>\n",
       "    <tr>\n",
       "      <th>38</th>\n",
       "      <td>72</td>\n",
       "    </tr>\n",
       "    <tr>\n",
       "      <th>...</th>\n",
       "      <td>...</td>\n",
       "    </tr>\n",
       "    <tr>\n",
       "      <th>53</th>\n",
       "      <td>130</td>\n",
       "    </tr>\n",
       "    <tr>\n",
       "      <th>71</th>\n",
       "      <td>130</td>\n",
       "    </tr>\n",
       "    <tr>\n",
       "      <th>84</th>\n",
       "      <td>132</td>\n",
       "    </tr>\n",
       "    <tr>\n",
       "      <th>13</th>\n",
       "      <td>136</td>\n",
       "    </tr>\n",
       "    <tr>\n",
       "      <th>42</th>\n",
       "      <td>34063</td>\n",
       "    </tr>\n",
       "  </tbody>\n",
       "</table>\n",
       "<p>100 rows × 1 columns</p>\n",
       "</div>"
      ],
      "text/plain": [
       "         total_items\n",
       "shop_id             \n",
       "85                67\n",
       "56                69\n",
       "16                71\n",
       "44                71\n",
       "38                72\n",
       "...              ...\n",
       "53               130\n",
       "71               130\n",
       "84               132\n",
       "13               136\n",
       "42             34063\n",
       "\n",
       "[100 rows x 1 columns]"
      ]
     },
     "execution_count": 59,
     "metadata": {},
     "output_type": "execute_result"
    }
   ],
   "source": [
    "df.groupby('shop_id').agg({'total_items':'sum'}).sort_values('total_items')"
   ]
  }
 ],
 "metadata": {
  "kernelspec": {
   "display_name": "Python 3 (ipykernel)",
   "language": "python",
   "name": "python3"
  },
  "language_info": {
   "codemirror_mode": {
    "name": "ipython",
    "version": 3
   },
   "file_extension": ".py",
   "mimetype": "text/x-python",
   "name": "python",
   "nbconvert_exporter": "python",
   "pygments_lexer": "ipython3",
   "version": "3.9.7"
  }
 },
 "nbformat": 4,
 "nbformat_minor": 5
}
